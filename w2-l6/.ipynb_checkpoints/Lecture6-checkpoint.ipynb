{
 "metadata": {
  "name": "",
  "signature": "sha256:28dfc061332d5b039c4b7e3ba6ec50f0b6fbeebbb7947da8fbbe06f12a56f842"
 },
 "nbformat": 3,
 "nbformat_minor": 0,
 "worksheets": [
  {
   "cells": [
    {
     "cell_type": "code",
     "collapsed": false,
     "input": [
      "pwd"
     ],
     "language": "python",
     "metadata": {},
     "outputs": [
      {
       "metadata": {},
       "output_type": "pyout",
       "prompt_number": 1,
       "text": [
        "u'/home/joe/dev/hpc_class/myhpsc/w2-l6'"
       ]
      }
     ],
     "prompt_number": 1
    },
    {
     "cell_type": "code",
     "collapsed": false,
     "input": [
      "import mysqrt"
     ],
     "language": "python",
     "metadata": {},
     "outputs": [],
     "prompt_number": 2
    },
    {
     "cell_type": "code",
     "collapsed": false,
     "input": [
      "ls"
     ],
     "language": "python",
     "metadata": {},
     "outputs": [
      {
       "output_type": "stream",
       "stream": "stdout",
       "text": [
        "Lecture6.ipynb  mysqrt.py  mysqrt.pyc\r\n"
       ]
      }
     ],
     "prompt_number": 3
    },
    {
     "cell_type": "code",
     "collapsed": false,
     "input": [
      "mysqrt.test()"
     ],
     "language": "python",
     "metadata": {},
     "outputs": [
      {
       "output_type": "stream",
       "stream": "stdout",
       "text": [
        "Testing with x = 0.000000000000000e+00\n",
        "s = 0.000000000000000e+00, numpy.sqrt = 0.000000000000000e+00\n",
        "Testing with x = 2.000000000000000e+00\n",
        "s = 1.414213562373095e+00, numpy.sqrt = 1.414213562373095e+00\n",
        "Testing with x = 1.000000000000000e+02\n",
        "s = 1.000000000000000e+01, numpy.sqrt = 1.000000000000000e+01\n",
        "Testing with x = 1.000000000000000e+04\n",
        "s = 1.000000000000000e+02, numpy.sqrt = 1.000000000000000e+02\n",
        "Testing with x = 1.000000000000000e-04\n",
        "s = 1.000000000000000e-02, numpy.sqrt = 1.000000000000000e-02\n"
       ]
      }
     ],
     "prompt_number": 4
    },
    {
     "cell_type": "code",
     "collapsed": false,
     "input": [
      "run mysqrt.py"
     ],
     "language": "python",
     "metadata": {},
     "outputs": [
      {
       "output_type": "stream",
       "stream": "stdout",
       "text": [
        "Running test...\n",
        "Testing with x = 0.000000000000000e+00\n",
        "s = 0.000000000000000e+00, numpy.sqrt = 0.000000000000000e+00\n",
        "Testing with x = 2.000000000000000e+00\n",
        "s = 1.414213562373095e+00, numpy.sqrt = 1.414213562373095e+00\n",
        "Testing with x = 1.000000000000000e+02\n",
        "s = 1.000000000000000e+01, numpy.sqrt = 1.000000000000000e+01\n",
        "Testing with x = 1.000000000000000e+04\n",
        "s = 1.000000000000000e+02, numpy.sqrt = 1.000000000000000e+02\n",
        "Testing with x = 1.000000000000000e-04\n",
        "s = 1.000000000000000e-02, numpy.sqrt = 1.000000000000000e-02\n"
       ]
      }
     ],
     "prompt_number": 5
    },
    {
     "cell_type": "code",
     "collapsed": false,
     "input": [
      "mysqrt.__name__"
     ],
     "language": "python",
     "metadata": {},
     "outputs": [
      {
       "metadata": {},
       "output_type": "pyout",
       "prompt_number": 6,
       "text": [
        "'mysqrt'"
       ]
      }
     ],
     "prompt_number": 6
    },
    {
     "cell_type": "markdown",
     "metadata": {},
     "source": [
      "time sqrt(2.)\n",
      "us means microseconds 1e-6 seconds"
     ]
    },
    {
     "cell_type": "code",
     "collapsed": false,
     "input": [
      "timeit sqrt(2.)"
     ],
     "language": "python",
     "metadata": {},
     "outputs": [
      {
       "output_type": "stream",
       "stream": "stdout",
       "text": [
        "1000000 loops, best of 3: 902 ns per loop\n"
       ]
      }
     ],
     "prompt_number": 8
    },
    {
     "cell_type": "code",
     "collapsed": false,
     "input": [
      "timeit sqrt(2.)"
     ],
     "language": "python",
     "metadata": {},
     "outputs": [
      {
       "output_type": "stream",
       "stream": "stdout",
       "text": [
        "1000000 loops, best of 3: 901 ns per loop\n"
       ]
      }
     ],
     "prompt_number": 9
    },
    {
     "cell_type": "code",
     "collapsed": false,
     "input": [
      "timeit mysqrt.sqrt2(2.)"
     ],
     "language": "python",
     "metadata": {},
     "outputs": [
      {
       "output_type": "stream",
       "stream": "stdout",
       "text": [
        "100000 loops, best of 3: 3.3 \u00b5s per loop\n"
       ]
      }
     ],
     "prompt_number": 10
    },
    {
     "cell_type": "code",
     "collapsed": false,
     "input": [
      "timeit y = sqrt(linspace(0,1,100))"
     ],
     "language": "python",
     "metadata": {},
     "outputs": [
      {
       "output_type": "stream",
       "stream": "stdout",
       "text": [
        "100000 loops, best of 3: 5.92 \u00b5s per loop\n"
       ]
      }
     ],
     "prompt_number": 11
    },
    {
     "cell_type": "code",
     "collapsed": false,
     "input": [
      "%%timeit\n",
      "y = zeros(1000)\n",
      "for i in range(1000):\n",
      "    y[i] = sqrt(i)"
     ],
     "language": "python",
     "metadata": {},
     "outputs": [
      {
       "output_type": "stream",
       "stream": "stdout",
       "text": [
        "1000 loops, best of 3: 1.23 ms per loop\n"
       ]
      }
     ],
     "prompt_number": 12
    },
    {
     "cell_type": "markdown",
     "metadata": {},
     "source": [
      "ms = millisecond = 1e-3 second"
     ]
    },
    {
     "cell_type": "code",
     "collapsed": false,
     "input": [],
     "language": "python",
     "metadata": {},
     "outputs": []
    }
   ],
   "metadata": {}
  }
 ]
}